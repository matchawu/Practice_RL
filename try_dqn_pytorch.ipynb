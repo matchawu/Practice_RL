{
 "metadata": {
  "language_info": {
   "codemirror_mode": {
    "name": "ipython",
    "version": 3
   },
   "file_extension": ".py",
   "mimetype": "text/x-python",
   "name": "python",
   "nbconvert_exporter": "python",
   "pygments_lexer": "ipython3",
   "version": "3.6.8-final"
  },
  "orig_nbformat": 2,
  "kernelspec": {
   "name": "python3",
   "display_name": "Python 3"
  }
 },
 "nbformat": 4,
 "nbformat_minor": 2,
 "cells": [
  {
   "cell_type": "code",
   "execution_count": 1,
   "metadata": {},
   "outputs": [
    {
     "output_type": "stream",
     "name": "stdout",
     "text": [
      "Use device: cuda\n"
     ]
    }
   ],
   "source": [
    "import os\n",
    "import gym\n",
    "import math\n",
    "import random\n",
    "import argparse\n",
    "import numpy as np\n",
    "from collections import namedtuple\n",
    "import sys\n",
    "import cv2\n",
    "from PIL import Image\n",
    "import matplotlib\n",
    "import matplotlib.pyplot as plt\n",
    "\n",
    "import torch\n",
    "import torch.nn as nn\n",
    "import torch.optim as optim\n",
    "import torch.nn.functional as F\n",
    "import torchvision.transforms as T\n",
    "device = torch.device(\"cuda\" if torch.cuda.is_available() else \"cpu\")\n",
    "print(\"Use device: %s\"%device)"
   ]
  },
  {
   "cell_type": "code",
   "execution_count": null,
   "metadata": {},
   "outputs": [],
   "source": [
    "# Please tune the hyperparameters\n",
    "parser = argparse.ArgumentParser()\n",
    "train_ep = 800\n",
    "mem_capacity = 65000\n",
    "batch_size = 128\n",
    "lr = 0.00025\n",
    "gamma = 0.999\n",
    "epsilon_start = 1.0\n",
    "epsilon_final = 0.1\n",
    "epsilon_decay = 1000000\n",
    "target_step = 10000\n",
    "eval_per_ep = 10\n",
    "save_per_ep = 50\n",
    "save_dir = \"./HW3/model\"\n",
    "log_file = \"./HW3/log.txt\"\n",
    "load_model = None\n",
    "train = True\n",
    "parser.add_argument(\"--train_ep\", default=800, type=int)\n",
    "parser.add_argument(\"--mem_capacity\", default=65000, type=int)\n",
    "parser.add_argument(\"--batch_size\", default=128, type=int)\n",
    "parser.add_argument(\"--lr\", default=0.00025, type=float)\n",
    "parser.add_argument(\"--gamma\", default=0.999, type=float)\n",
    "parser.add_argument(\"--epsilon_start\", default=1.0, type=float)\n",
    "parser.add_argument(\"--epsilon_final\", default=0.1, type=float)\n",
    "parser.add_argument(\"--epsilon_decay\", default=1000000, type=float)\n",
    "parser.add_argument(\"--target_step\", default=10000, type=int)\n",
    "parser.add_argument(\"--eval_per_ep\", default=10, type=int)\n",
    "parser.add_argument(\"--save_per_ep\", default=50, type=int)\n",
    "parser.add_argument(\"--save_dir\", default=\"./HW3/model\")\n",
    "parser.add_argument(\"--log_file\", default=\"./HW3/log.txt\")\n",
    "parser.add_argument(\"--load_model\", default=None)\n",
    "parser.add_argument(\"--train\", default=True, type=bool)"
   ]
  }
 ]
}
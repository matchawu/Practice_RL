{
 "cells": [
  {
   "cell_type": "code",
   "execution_count": 26,
   "metadata": {},
   "outputs": [],
   "source": [
    "adj_norm=1\n",
    "base_model_dump=None\n",
    "batch_size=10\n",
    "bilin_q=1\n",
    "cross_rate=0.1\n",
    "ctx='cpu'\n",
    "\n",
    "data_folder='/mnt/sda/wwj/graph_adversarial_attack/dropbox/data'\n",
    "\n",
    "dataset='pubmed'\n",
    "\n",
    "del_rate=0\n",
    "dropout=0.5\n",
    "er_p=0\n",
    "feat_dim=0\n",
    "feature_dim=None\n",
    "fold=1\n",
    "frac_meta=0\n",
    "gm='mean_field'\n",
    "hidden=0\n",
    "idx_start=None\n",
    "latent_dim=64\n",
    "learning_rate=0.01\n",
    "logfile=None\n",
    "max_c=0\n",
    "max_lv=1\n",
    "max_n=0\n",
    "meta_test=0\n",
    "min_c=0\n",
    "min_n=0\n",
    "mlp_hidden=64\n",
    "mutate_rate=0.2\n",
    "n_graphs=0\n",
    "n_hops=3\n",
    "num_class=None\n",
    "num_epochs=200\n",
    "num_instances=None\n",
    "num_mod=1\n",
    "num_steps=500000\n",
    "out_dim=0\n",
    "phase='train'\n",
    "population_size=100\n",
    "rand_att_type=None\n",
    "reward_type='binary'\n",
    "rounds=10\n",
    "save_dir='/home/wwj/scratch/results/del_edge_attack/pubmed-gcn-0.01/rl-lv-1-q-1-meta-0'\n",
    "saved_model='/mnt/sda/wwj/graph_adversarial_attack/dropbox/scratch/results/node_classification/pubmed/model-gcn-epoch-best-0.01'\n",
    "seed=1\n",
    "targeted=0\n",
    "weight_decay=0.0005"
   ]
  },
  {
   "cell_type": "code",
   "execution_count": 18,
   "metadata": {},
   "outputs": [],
   "source": [
    "import os\n",
    "import sys\n",
    "import numpy as np\n",
    "import torch\n",
    "import networkx as nx\n",
    "import random\n",
    "from torch.autograd import Variable\n",
    "from torch.nn.parameter import Parameter\n",
    "import torch.nn as nn\n",
    "import torch.nn.functional as F\n",
    "import torch.optim as optim\n",
    "from tqdm import tqdm\n",
    "from copy import deepcopy"
   ]
  },
  {
   "cell_type": "code",
   "execution_count": 20,
   "metadata": {},
   "outputs": [],
   "source": [
    "import os\n",
    "import sys\n",
    "import numpy as np\n",
    "import torch\n",
    "import networkx as nx\n",
    "import random\n",
    "from torch.autograd import Variable\n",
    "from torch.nn.parameter import Parameter\n",
    "import torch.nn as nn\n",
    "import torch.nn.functional as F\n",
    "import torch.optim as optim\n",
    "from tqdm import tqdm\n",
    "from copy import deepcopy\n",
    "# import cPickle as cp\n",
    "import pickle as pk"
   ]
  },
  {
   "cell_type": "code",
   "execution_count": 22,
   "metadata": {},
   "outputs": [
    {
     "data": {
      "text/plain": [
       "<torch._C.Generator at 0x7ff62cb4e9a8>"
      ]
     },
     "execution_count": 22,
     "metadata": {},
     "output_type": "execute_result"
    }
   ],
   "source": [
    "random.seed(seed)\n",
    "np.random.seed(seed)\n",
    "torch.manual_seed(seed)"
   ]
  },
  {
   "cell_type": "code",
   "execution_count": 28,
   "metadata": {
    "scrolled": true
   },
   "outputs": [
    {
     "data": {
      "text/plain": [
       "[0,\n",
       " 1,\n",
       " 2,\n",
       " 3,\n",
       " 4,\n",
       " 5,\n",
       " 6,\n",
       " 7,\n",
       " 8,\n",
       " 9,\n",
       " 10,\n",
       " 11,\n",
       " 12,\n",
       " 13,\n",
       " 14,\n",
       " 15,\n",
       " 16,\n",
       " 17,\n",
       " 18,\n",
       " 19,\n",
       " 20,\n",
       " 21,\n",
       " 22,\n",
       " 23,\n",
       " 24,\n",
       " 25,\n",
       " 26,\n",
       " 27,\n",
       " 28,\n",
       " 29,\n",
       " 30,\n",
       " 31,\n",
       " 32,\n",
       " 33,\n",
       " 34,\n",
       " 35,\n",
       " 36,\n",
       " 37,\n",
       " 38,\n",
       " 39,\n",
       " 40,\n",
       " 41,\n",
       " 42,\n",
       " 43,\n",
       " 44,\n",
       " 45,\n",
       " 46,\n",
       " 47,\n",
       " 48,\n",
       " 49,\n",
       " 50,\n",
       " 51,\n",
       " 52,\n",
       " 53,\n",
       " 54,\n",
       " 55,\n",
       " 56,\n",
       " 57,\n",
       " 58,\n",
       " 59]"
      ]
     },
     "execution_count": 28,
     "metadata": {},
     "output_type": "execute_result"
    }
   ],
   "source": [
    "list(np.loadtxt(data_folder +'/'+ dataset + '/train_idx.txt', dtype=int))"
   ]
  },
  {
   "cell_type": "code",
   "execution_count": 29,
   "metadata": {},
   "outputs": [],
   "source": [
    "def load_txt_data(data_folder, dataset_str):\n",
    "    idx_train = list(np.loadtxt(data_folder + '/train_idx.txt', dtype=int))\n",
    "    idx_val = list(np.loadtxt(data_folder + '/val_idx.txt', dtype=int))\n",
    "    idx_test = list(np.loadtxt(data_folder + '/test_idx.txt', dtype=int))\n",
    "    labels = np.loadtxt(data_folder + '/label.txt')\n",
    "    \n",
    "    with open(data_folder + '/meta.txt', 'r') as f:\n",
    "        num_nodes, cmd_args.num_class, cmd_args.feature_dim = [int(w) for w in f.readline().strip().split()]\n",
    "\n",
    "    graph = load_raw_graph(data_folder, dataset_str)\n",
    "    assert len(graph) == num_nodes\n",
    "    StaticGraph.graph = nx.from_dict_of_lists(graph)\n",
    "    \n",
    "    row_ptr = []\n",
    "    col_idx = []\n",
    "    vals = []\n",
    "    with open(data_folder + '/features.txt', 'r') as f:\n",
    "        nnz = 0\n",
    "        for row in f:\n",
    "            row = row.strip().split()\n",
    "            row_ptr.append(nnz)            \n",
    "            for i in range(1, len(row)):\n",
    "                w = row[i].split(':')\n",
    "                col_idx.append(int(w[0]))\n",
    "                vals.append(float(w[1]))\n",
    "            nnz += int(row[0])\n",
    "        row_ptr.append(nnz)\n",
    "    assert len(col_idx) == len(vals) and len(vals) == nnz and len(row_ptr) == num_nodes + 1\n",
    "\n",
    "    features = sp.csr_matrix((vals, col_idx, row_ptr), shape=(num_nodes, cmd_args.feature_dim))\n",
    "    \n",
    "    return preprocess_features(features), labels, idx_train, idx_val, idx_test"
   ]
  },
  {
   "cell_type": "code",
   "execution_count": null,
   "metadata": {},
   "outputs": [],
   "source": [
    "features, labels, _, idx_val, idx_test = load_txt_data(cmd_args.data_folder + '/' + cmd_args.dataset, cmd_args.dataset)    "
   ]
  },
  {
   "cell_type": "code",
   "execution_count": 23,
   "metadata": {},
   "outputs": [],
   "source": [
    "def init_setup():\n",
    "    features, labels, _, idx_val, idx_test = load_txt_data(cmd_args.data_folder + '/' + cmd_args.dataset, cmd_args.dataset)    \n",
    "    features = Variable( features )\n",
    "    labels = Variable( torch.LongTensor( np.argmax(labels, axis=1) ) )\n",
    "    if cmd_args.ctx == 'gpu':\n",
    "        labels = labels.cuda()\n",
    "\n",
    "    base_model = load_base_model() # load base model\n",
    "    run_test(base_model, features, Variable( base_model.norm_tool.normed_adj ), idx_test, labels)\n",
    "\n",
    "    dict_of_lists = load_raw_graph(cmd_args.data_folder + '/' + cmd_args.dataset, cmd_args.dataset)\n",
    "\n",
    "    return features, labels, idx_val, idx_test, base_model, dict_of_lists"
   ]
  },
  {
   "cell_type": "code",
   "execution_count": null,
   "metadata": {},
   "outputs": [],
   "source": []
  }
 ],
 "metadata": {
  "kernelspec": {
   "display_name": "Python 3",
   "language": "python",
   "name": "python3"
  },
  "language_info": {
   "codemirror_mode": {
    "name": "ipython",
    "version": 3
   },
   "file_extension": ".py",
   "mimetype": "text/x-python",
   "name": "python",
   "nbconvert_exporter": "python",
   "pygments_lexer": "ipython3",
   "version": "3.6.5"
  }
 },
 "nbformat": 4,
 "nbformat_minor": 2
}
